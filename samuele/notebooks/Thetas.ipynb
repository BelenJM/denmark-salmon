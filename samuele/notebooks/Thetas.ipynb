{
 "cells": [
  {
   "cell_type": "markdown",
   "metadata": {},
   "source": [
    "***Import libraires and data, set up stuff***"
   ]
  },
  {
   "cell_type": "code",
   "execution_count": 1,
   "metadata": {},
   "outputs": [],
   "source": [
    "import seaborn as sns\n",
    "import pandas as pd\n",
    "import numpy as np\n",
    "import matplotlib.pyplot as plt"
   ]
  },
  {
   "cell_type": "code",
   "execution_count": 2,
   "metadata": {},
   "outputs": [],
   "source": [
    "import rpy2.rinterface_lib.callbacks\n",
    "import logging\n",
    "\n",
    "from rpy2.robjects import pandas2ri\n",
    "#import anndata2ri"
   ]
  },
  {
   "cell_type": "code",
   "execution_count": 3,
   "metadata": {},
   "outputs": [],
   "source": [
    "# Ignore R warning messages\n",
    "#Note: this can be commented out to get more verbose R output\n",
    "rpy2.rinterface_lib.callbacks.logger.setLevel(logging.ERROR)\n",
    "\n",
    "# Automatically convert rpy2 outputs to pandas dataframes\n",
    "pandas2ri.activate()\n",
    "#anndata2ri.activate()\n",
    "%load_ext rpy2.ipython"
   ]
  },
  {
   "cell_type": "code",
   "execution_count": 4,
   "metadata": {},
   "outputs": [],
   "source": [
    "plt.rcParams['figure.figsize']=(6,6) #rescale figures"
   ]
  },
  {
   "cell_type": "code",
   "execution_count": 5,
   "metadata": {},
   "outputs": [],
   "source": [
    "from os import listdir\n",
    "from os.path import isfile, join"
   ]
  },
  {
   "cell_type": "code",
   "execution_count": 13,
   "metadata": {},
   "outputs": [],
   "source": [
    "mypath1 = '../../results_5e5/out_theta/'\n",
    "fileLists = [mypath1+f.split('.')[0]+'.logTheta.Chr.txt' for f in listdir(mypath1) if isfile(join(mypath1, f))]\n",
    "fileLists = np.unique(fileLists)\n",
    "dataName = [f.split('.')[0] for f in listdir(mypath1) if isfile(join(mypath1, f))]\n",
    "dataName = np.unique(dataName)"
   ]
  },
  {
   "cell_type": "markdown",
   "metadata": {},
   "source": [
    "Generate SFS1d plots including 0 counts and without 0 counts"
   ]
  },
  {
   "cell_type": "code",
   "execution_count": 14,
   "metadata": {},
   "outputs": [],
   "source": [
    "fileName = fileLists[0]\n",
    "name = dataName[0] \n",
    "x = pd.read_csv(fileName, sep='\\t')\n",
    "chrom = np.asarray(x['Chr'])\n",
    "data = pd.DataFrame(index=chrom)\n",
    "for fileName, name in zip(fileLists, dataName):\n",
    "    x = pd.read_csv(fileName, sep='\\t')\n",
    "    data['th_Watt'+'.'+name] = np.asarray(x['tW'])\n",
    "    data['th_Pair'+'.'+name] = np.asarray(x['tP'])\n",
    "    data['th_FuLi'+'.'+name] = np.asarray(x['tF'])\n",
    "    data['th_Fay'+'.'+name] = np.asarray(x['tF'])\n",
    "    data['Tajima_D'+'.'+name] = np.asarray(x['Tajima'])\n",
    "    data['FuLi_F'+'.'+name] = np.asarray(x['fuf'])\n",
    "    data['FuLi_D'+'.'+name] = np.asarray(x['fud'])\n",
    "    data['Fay_H'+'.'+name] = np.asarray(x['fayh'])"
   ]
  },
  {
   "cell_type": "code",
   "execution_count": 15,
   "metadata": {},
   "outputs": [],
   "source": [
    "data2 = data.T\n",
    "multiIndex = []\n",
    "for i in data2.index:\n",
    "    multiIndex.append( (i.split('.')[1],i.split('.')[0]) )\n",
    "index = pd.MultiIndex.from_tuples(multiIndex)\n",
    "data2.index = multiIndex #change index to tuples\n",
    "data2 = data2.reindex(index) #use the new multiindex to map tuples to multiindices"
   ]
  },
  {
   "cell_type": "code",
   "execution_count": 16,
   "metadata": {},
   "outputs": [],
   "source": [
    "data2.T.to_csv('../../results_5e5/out_theta/theta_table_5e5.csv', sep='\\t')"
   ]
  },
  {
   "cell_type": "markdown",
   "metadata": {},
   "source": [
    "SNP filtered 5e-6"
   ]
  },
  {
   "cell_type": "code",
   "execution_count": 17,
   "metadata": {},
   "outputs": [],
   "source": [
    "mypath1 = '../../results_5e6/out_theta/'\n",
    "fileLists = [mypath1+f.split('.')[0]+'.logTheta.Chr.txt' for f in listdir(mypath1) if isfile(join(mypath1, f))]\n",
    "fileLists = np.unique(fileLists)\n",
    "dataName = [f.split('.')[0] for f in listdir(mypath1) if isfile(join(mypath1, f))]\n",
    "dataName = np.unique(dataName)"
   ]
  },
  {
   "cell_type": "markdown",
   "metadata": {},
   "source": [
    "Generate SFS1d plots including 0 counts and without 0 counts"
   ]
  },
  {
   "cell_type": "code",
   "execution_count": 18,
   "metadata": {},
   "outputs": [],
   "source": [
    "fileName = fileLists[0]\n",
    "name = dataName[0] \n",
    "x = pd.read_csv(fileName, sep='\\t')\n",
    "chrom = np.asarray(x['Chr'])\n",
    "data = pd.DataFrame(index=chrom)\n",
    "for fileName, name in zip(fileLists, dataName):\n",
    "    x = pd.read_csv(fileName, sep='\\t')\n",
    "    data['th_Watt'+'.'+name] = np.asarray(x['tW'])\n",
    "    data['th_Pair'+'.'+name] = np.asarray(x['tP'])\n",
    "    data['th_FuLi'+'.'+name] = np.asarray(x['tF'])\n",
    "    data['th_Fay'+'.'+name] = np.asarray(x['tF'])\n",
    "    data['Tajima_D'+'.'+name] = np.asarray(x['Tajima'])\n",
    "    data['FuLi_F'+'.'+name] = np.asarray(x['fuf'])\n",
    "    data['FuLi_D'+'.'+name] = np.asarray(x['fud'])\n",
    "    data['Fay_H'+'.'+name] = np.asarray(x['fayh'])"
   ]
  },
  {
   "cell_type": "code",
   "execution_count": 19,
   "metadata": {},
   "outputs": [],
   "source": [
    "data2 = data.T\n",
    "multiIndex = []\n",
    "for i in data2.index:\n",
    "    multiIndex.append( (i.split('.')[1],i.split('.')[0]) )\n",
    "index = pd.MultiIndex.from_tuples(multiIndex)\n",
    "data2.index = multiIndex #change index to tuples\n",
    "data2 = data2.reindex(index) #use the new multiindex to map tuples to multiindices"
   ]
  },
  {
   "cell_type": "code",
   "execution_count": 20,
   "metadata": {},
   "outputs": [],
   "source": [
    "data2.T.to_csv('../../results_5e6/out_theta/theta_table_5e6.csv', sep='\\t')"
   ]
  },
  {
   "cell_type": "code",
   "execution_count": null,
   "metadata": {},
   "outputs": [],
   "source": []
  },
  {
   "cell_type": "code",
   "execution_count": null,
   "metadata": {},
   "outputs": [],
   "source": []
  },
  {
   "cell_type": "code",
   "execution_count": null,
   "metadata": {},
   "outputs": [],
   "source": []
  }
 ],
 "metadata": {
  "kernelspec": {
   "display_name": "Python 3",
   "language": "python",
   "name": "python3"
  },
  "language_info": {
   "codemirror_mode": {
    "name": "ipython",
    "version": 3
   },
   "file_extension": ".py",
   "mimetype": "text/x-python",
   "name": "python",
   "nbconvert_exporter": "python",
   "pygments_lexer": "ipython3",
   "version": "3.8.2"
  }
 },
 "nbformat": 4,
 "nbformat_minor": 2
}
